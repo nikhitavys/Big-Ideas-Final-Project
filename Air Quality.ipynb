{
 "cells": [
  {
   "cell_type": "markdown",
   "metadata": {},
   "source": [
    "# Air Quality Report\n",
    "Nikhita Vysyaraju"
   ]
  },
  {
   "cell_type": "markdown",
   "metadata": {},
   "source": [
    "## Introduction to Metric\n",
    "The Air Quality in Allegheny County data set used two parameters: sites and the Air Quality Index (AQI). There are 13 main source sites used by the dataset to determine the daily average AQI value starting from 2016 to the present. The data set isn't consistent with recording values earlier on, but as it gets closer to the present, the recorded data is done almost every day. The Air Quality Index is a metric that determines how much the air pollution can affect living things. It has a range from 0 to 500, but the ranges that are most common are 0 to 50 (good air quality) and 50 to 100 (moderate air quality, but poses risk to some people). To easily compare all the sites, I found the means for each site and compared the values through a bar graph. "
   ]
  },
  {
   "cell_type": "markdown",
   "metadata": {},
   "source": [
    "## Code Explanation"
   ]
  },
  {
   "cell_type": "markdown",
   "metadata": {},
   "source": [
    "In order to compare the sites' means, I imported and read the data. Then I summed the data by site, however, there were two sites that repeated: Liberty and Lawrenceville. I had to add Liberty and Liberty 2 together, as well as Lawrenceville and Lawrenceville 2. I did that all at once when I made query masks to find the average AQI values for each site. By using the \"str.startswith()\" method I was able to combine the repeats into one query mask and find the mean. I repeated this process for all 13 sites and then created a new dataframe with all these values. I added labels and a title to the dataframe and finally made the bar graph to represent the relationship between sites and daily average AQI values."
   ]
  },
  {
   "cell_type": "code",
   "execution_count": 24,
   "metadata": {},
   "outputs": [],
   "source": [
    "# import necessary packages for graphing\n",
    "import pandas as pd\n",
    "import numpy as np\n",
    "import geopandas as gpd\n",
    "\n",
    "%matplotlib inline\n",
    "import matplotlib.pyplot as plt"
   ]
  },
  {
   "cell_type": "code",
   "execution_count": 25,
   "metadata": {},
   "outputs": [],
   "source": [
    "air = pd.read_csv(\"air-quality.csv\")"
   ]
  },
  {
   "cell_type": "code",
   "execution_count": 26,
   "metadata": {},
   "outputs": [
    {
     "data": {
      "text/plain": [
       "site\n",
       "West Mifflin               1907\n",
       "Clairton                   2393\n",
       "Lawrenceville 2           13154\n",
       "Pittsburgh                18965\n",
       "Glassport High Street     36693\n",
       "Flag Plaza                38289\n",
       "Liberty                   40159\n",
       "Avalon                    76392\n",
       "North Braddock            79604\n",
       "South Fayette             84915\n",
       "Harrison Township         99475\n",
       "Lincoln                  125476\n",
       "Liberty 2                135101\n",
       "Lawrenceville            140725\n",
       "Parkway East             142316\n",
       "Name: index_value, dtype: int64"
      ]
     },
     "execution_count": 26,
     "metadata": {},
     "output_type": "execute_result"
    }
   ],
   "source": [
    "air_quality = air.groupby(\"site\").sum()[\"index_value\"]\n",
    "air_quality.sort_values(ascending=True)"
   ]
  },
  {
   "cell_type": "code",
   "execution_count": 5,
   "metadata": {},
   "outputs": [],
   "source": [
    "# west mifflin avg SO2\n",
    "q_mask1 = air['site'].str.startswith('West')\n",
    "\n",
    "site1_SO2 = air[q_mask1]\n",
    "\n",
    "avg_1 = site1_SO2['index_value'].mean()"
   ]
  },
  {
   "cell_type": "code",
   "execution_count": 6,
   "metadata": {},
   "outputs": [],
   "source": [
    "# clairton avg SO2\n",
    "q_mask2 = air['site'].str.startswith('Clairton')\n",
    "\n",
    "site2_SO2 = air[q_mask2]\n",
    "\n",
    "avg_2 = site2_SO2['index_value'].mean()"
   ]
  },
  {
   "cell_type": "code",
   "execution_count": 7,
   "metadata": {},
   "outputs": [],
   "source": [
    "# lawrenceville avg SO2\n",
    "q_mask3 = air['site'].str.startswith('Lawrenceville')\n",
    "\n",
    "site3_SO2 = air[q_mask3]\n",
    "\n",
    "avg_3 = site3_SO2['index_value'].mean()"
   ]
  },
  {
   "cell_type": "code",
   "execution_count": 8,
   "metadata": {},
   "outputs": [],
   "source": [
    "# pittsburgh avg SO2\n",
    "q_mask4 = air['site'].str.startswith('Pittsburgh')\n",
    "\n",
    "site4_SO2 = air[q_mask4]\n",
    "\n",
    "avg_4 = site4_SO2['index_value'].mean()"
   ]
  },
  {
   "cell_type": "code",
   "execution_count": 9,
   "metadata": {},
   "outputs": [],
   "source": [
    "# glassport high st avg SO2\n",
    "q_mask5 = air['site'].str.startswith('Glassport')\n",
    "\n",
    "site5_SO2 = air[q_mask5]\n",
    "\n",
    "avg_5 = site5_SO2['index_value'].mean()"
   ]
  },
  {
   "cell_type": "code",
   "execution_count": 10,
   "metadata": {},
   "outputs": [],
   "source": [
    "# flag plaza avg SO2\n",
    "q_mask6 = air['site'].str.startswith('Flag')\n",
    "\n",
    "site6_SO2 = air[q_mask6]\n",
    "\n",
    "avg_6 = site6_SO2['index_value'].mean()"
   ]
  },
  {
   "cell_type": "code",
   "execution_count": 11,
   "metadata": {},
   "outputs": [],
   "source": [
    "# liberty avg SO2\n",
    "q_mask7 = air['site'].str.startswith('Liberty')\n",
    "\n",
    "site7_SO2 = air[q_mask7]\n",
    "\n",
    "avg_7 = site7_SO2['index_value'].mean()"
   ]
  },
  {
   "cell_type": "code",
   "execution_count": 12,
   "metadata": {},
   "outputs": [],
   "source": [
    "# avalon avg so2\n",
    "q_mask8 = air['site'].str.startswith('Avalon')\n",
    "\n",
    "site8_SO2 = air[q_mask8]\n",
    "\n",
    "avg_8 = site8_SO2['index_value'].mean()"
   ]
  },
  {
   "cell_type": "code",
   "execution_count": 13,
   "metadata": {},
   "outputs": [],
   "source": [
    "# north braddock avg s02\n",
    "q_mask9 = air['site'].str.startswith('North')\n",
    "\n",
    "site9_SO2 = air[q_mask9]\n",
    "\n",
    "avg_9 = site9_SO2['index_value'].mean()"
   ]
  },
  {
   "cell_type": "code",
   "execution_count": 14,
   "metadata": {},
   "outputs": [],
   "source": [
    "# south fayette avg so2\n",
    "q_mask10 = air['site'].str.startswith('South')\n",
    "\n",
    "site10_SO2 = air[q_mask10]\n",
    "\n",
    "avg_10 = site10_SO2['index_value'].mean()"
   ]
  },
  {
   "cell_type": "code",
   "execution_count": 15,
   "metadata": {},
   "outputs": [],
   "source": [
    "# harrison township avg so2\n",
    "q_mask11 = air['site'].str.startswith('Harrison')\n",
    "\n",
    "site11_SO2 = air[q_mask11]\n",
    "\n",
    "avg_11 = site11_SO2['index_value'].mean()"
   ]
  },
  {
   "cell_type": "code",
   "execution_count": 16,
   "metadata": {},
   "outputs": [],
   "source": [
    "# lincoln avg so2\n",
    "q_mask12 = air['site'].str.startswith('Lincoln')\n",
    "\n",
    "site12_SO2 = air[q_mask12]\n",
    "\n",
    "avg_12 = site12_SO2['index_value'].mean()"
   ]
  },
  {
   "cell_type": "code",
   "execution_count": 23,
   "metadata": {},
   "outputs": [],
   "source": [
    "# parkway east avg s02\n",
    "q_mask13 = air['site'].str.startswith('Parkway')\n",
    "\n",
    "site13_SO2 = air[q_mask13]\n",
    "\n",
    "avg_13 = site13_SO2['index_value'].mean()"
   ]
  },
  {
   "cell_type": "markdown",
   "metadata": {},
   "source": [
    "\"West Mifflin\",\"Lawrenceville\",\n",
    "                          \"Lincoln\",\"Parkway East\",\"Harrison Township\",\n",
    "                         \"Liberty\", \"North Braddock\", \"South Fayette\",\n",
    "                         \"Flag Plaza\", \"Glassport High\",\n",
    "                         \"Pittsburgh\", \"Clairton\", \"Avalon\""
   ]
  },
  {
   "cell_type": "code",
   "execution_count": 20,
   "metadata": {},
   "outputs": [],
   "source": [
    "# averaged all the air quality values for each borough in allegheny\n",
    "# borough = site of air quality data set\n",
    "# use averages to make a bar graph with avgs + borough names"
   ]
  },
  {
   "cell_type": "code",
   "execution_count": 22,
   "metadata": {},
   "outputs": [
    {
     "data": {
      "text/html": [
       "<div>\n",
       "<style scoped>\n",
       "    .dataframe tbody tr th:only-of-type {\n",
       "        vertical-align: middle;\n",
       "    }\n",
       "\n",
       "    .dataframe tbody tr th {\n",
       "        vertical-align: top;\n",
       "    }\n",
       "\n",
       "    .dataframe thead th {\n",
       "        text-align: right;\n",
       "    }\n",
       "</style>\n",
       "<table border=\"1\" class=\"dataframe\">\n",
       "  <thead>\n",
       "    <tr style=\"text-align: right;\">\n",
       "      <th></th>\n",
       "      <th>West Mifflin</th>\n",
       "      <th>Clairton</th>\n",
       "      <th>Lawrenceville</th>\n",
       "      <th>Pittsburgh</th>\n",
       "      <th>Glassport</th>\n",
       "      <th>Flag Plaza</th>\n",
       "      <th>Liberty</th>\n",
       "      <th>Avalon</th>\n",
       "      <th>North Braddock</th>\n",
       "      <th>South Fayette</th>\n",
       "      <th>Harrison Township</th>\n",
       "      <th>Lincoln</th>\n",
       "      <th>Parkway East</th>\n",
       "    </tr>\n",
       "  </thead>\n",
       "  <tbody>\n",
       "    <tr>\n",
       "      <th>0</th>\n",
       "      <td>6.335548</td>\n",
       "      <td>7.273556</td>\n",
       "      <td>19.505514</td>\n",
       "      <td>30.007911</td>\n",
       "      <td>17.275424</td>\n",
       "      <td>9.853062</td>\n",
       "      <td>27.770559</td>\n",
       "      <td>20.674425</td>\n",
       "      <td>17.981477</td>\n",
       "      <td>20.630466</td>\n",
       "      <td>24.369182</td>\n",
       "      <td>35.108002</td>\n",
       "      <td>22.324078</td>\n",
       "    </tr>\n",
       "  </tbody>\n",
       "</table>\n",
       "</div>"
      ],
      "text/plain": [
       "   West Mifflin  Clairton  Lawrenceville  Pittsburgh  Glassport  Flag Plaza  \\\n",
       "0      6.335548  7.273556      19.505514   30.007911  17.275424    9.853062   \n",
       "\n",
       "     Liberty     Avalon  North Braddock  South Fayette  Harrison Township  \\\n",
       "0  27.770559  20.674425       17.981477      20.630466          24.369182   \n",
       "\n",
       "     Lincoln  Parkway East  \n",
       "0  35.108002     22.324078  "
      ]
     },
     "execution_count": 22,
     "metadata": {},
     "output_type": "execute_result"
    }
   ],
   "source": [
    "d = {\"West Mifflin\": [avg_1], \"Clairton\": [avg_2], \n",
    "     \"Lawrenceville\": [avg_3], \"Pittsburgh\": [avg_4],\n",
    "    \"Glassport\": [avg_5], \"Flag Plaza\": [avg_6], \n",
    "    \"Liberty\": [avg_7], \"Avalon\": [avg_8], \n",
    "    \"North Braddock\": [avg_9], \"South Fayette\": [avg_10],\n",
    "    \"Harrison Township\": [avg_11], \"Lincoln\": [avg_12], \n",
    "    \"Parkway East\": [avg_13]}\n",
    "df = pd.DataFrame(data=d)\n",
    "df"
   ]
  },
  {
   "cell_type": "code",
   "execution_count": 29,
   "metadata": {},
   "outputs": [
    {
     "data": {
      "text/plain": [
       "[Text(0, 0.5, 'Average Air Quality Index'),\n",
       " Text(0.5, 0, 'Allegheny County Boroughs')]"
      ]
     },
     "execution_count": 29,
     "metadata": {},
     "output_type": "execute_result"
    },
    {
     "data": {
      "image/png": "[encoded data removed]",
      "text/plain": [
       "<Figure size 432x288 with 1 Axes>"
      ]
     },
     "metadata": {
      "needs_background": "light"
     },
     "output_type": "display_data"
    }
   ],
   "source": [
    "# width = [1,1,1,1,1,1,1,1,1,1,1,1,1]\n",
    "graph = df.plot.bar(title=\"The Average AQI Per Each Borough in Allegheny County\")\n",
    "plt.legend(bbox_to_anchor=(1,1))\n",
    "graph.set(xlabel=\"Allegheny County Boroughs\", ylabel=\"Average Air Quality Index\")"
   ]
  },
  {
   "cell_type": "markdown",
   "metadata": {},
   "source": [
    "## Conclusion\n",
    "The Air Quality data set for Allegheny county focused on thirteen sites and their daily SO2 levels from 2016 and on. The documentations were somewhat random but became consistent in 2019. I used the given air quality values, and found the mean for each borough. We can now compare all the boroughs by their averages. According to AirNow, if the AQI is between 0 and 50, that means the air pollution poses little to no risk. The lowest average AQI is in West Mifflin with around 6.34. Objectively, we can assume with the Air Quality Index metric that West Mifflin is the best borough (or site) in Allegheny County."
   ]
  }
 ],
 "metadata": {
  "kernelspec": {
   "display_name": "Python 3",
   "language": "python",
   "name": "python3"
  },
  "language_info": {
   "codemirror_mode": {
    "name": "ipython",
    "version": 3
   },
   "file_extension": ".py",
   "mimetype": "text/x-python",
   "name": "python",
   "nbconvert_exporter": "python",
   "pygments_lexer": "ipython3",
   "version": "3.8.3"
  }
 },
 "nbformat": 4,
 "nbformat_minor": 4
}
